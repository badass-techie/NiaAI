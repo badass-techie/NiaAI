{
 "cells": [
  {
   "attachments": {},
   "cell_type": "markdown",
   "metadata": {},
   "source": [
    "### imports"
   ]
  },
  {
   "cell_type": "code",
   "execution_count": 2,
   "metadata": {},
   "outputs": [],
   "source": [
    "import time\n",
    "import os\n",
    "from random import randrange\n",
    "\n",
    "import pickle\n",
    "import tensorflow as tf\n",
    "from sklearn.cluster import SpectralClustering, AgglomerativeClustering\n",
    "from sklearn.manifold import TSNE\n",
    "from sklearn.metrics import pairwise_distances\n",
    "from sklearn.decomposition import PCA\n",
    "from tensorflow.keras import Input, Model, Sequential, layers, losses, optimizers, initializers, applications, utils\n",
    "import tensorflow_text as text\n",
    "import tensorflow_hub as hub\n",
    "import numpy as np\n",
    "from matplotlib import pyplot as plt\n",
    "from tqdm import tqdm"
   ]
  },
  {
   "attachments": {},
   "cell_type": "markdown",
   "metadata": {},
   "source": [
    "### helper functions"
   ]
  },
  {
   "cell_type": "code",
   "execution_count": 3,
   "metadata": {},
   "outputs": [],
   "source": [
    "def format_time(seconds):\n",
    "    \"\"\"\n",
    "        Formats time in seconds to h:mm:ss.\n",
    "    \"\"\"\n",
    "    return \"{}:{:0>2}:{:0>2}\".format(int(seconds//3600), int((seconds//60)%60), int(seconds%60))"
   ]
  },
  {
   "attachments": {},
   "cell_type": "markdown",
   "metadata": {},
   "source": [
    "### prepare data"
   ]
  },
  {
   "cell_type": "code",
   "execution_count": 4,
   "metadata": {},
   "outputs": [],
   "source": [
    "inputs, labels = [], []\n",
    "classnames = []\n",
    "\n",
    "# create inputs\n",
    "for file in os.listdir('dataset'):\n",
    "    with open('dataset/' + file) as f:\n",
    "        inputs.extend(f.read().splitlines())\n",
    "        classnames.append(file.split('.')[0])\n",
    "\n",
    "# get classes\n",
    "classnames = list(set(classnames))\n",
    "\n",
    "# create labels for each input\n",
    "for file in os.listdir('dataset'):\n",
    "    with open('dataset/' + file) as f:\n",
    "        classname = file.split('.')[0]\n",
    "        for line in f:\n",
    "            labels.append(classnames.index(classname))\n",
    "\n",
    "batch_size = 5\n",
    "inputs = np.array(inputs)\n",
    "inputs = np.reshape(inputs, [-1, batch_size])\n",
    "labels = np.array(labels)\n",
    "labels = np.reshape(labels, [-1, batch_size])\n",
    "\n",
    "test_inputs, test_labels = [], []\n",
    "\n",
    "# create test inputs/labels\n",
    "for file in os.listdir('testset'):\n",
    "    with open('testset/' + file) as f:\n",
    "        lines = f.read().splitlines()\n",
    "        test_inputs.extend(lines)\n",
    "        classname = file.split('.')[0]\n",
    "        for line in lines:\n",
    "            test_labels.append(classnames.index(classname))\n",
    "\n",
    "test_batch_size = 5\n",
    "test_inputs = np.array(test_inputs)\n",
    "test_inputs = np.reshape(test_inputs, [-1, test_batch_size])\n",
    "test_labels = np.array(test_labels)\n",
    "test_labels = np.reshape(test_labels, [-1, test_batch_size])"
   ]
  },
  {
   "attachments": {},
   "cell_type": "markdown",
   "metadata": {},
   "source": [
    "### create model"
   ]
  },
  {
   "cell_type": "code",
   "execution_count": 5,
   "metadata": {},
   "outputs": [],
   "source": [
    "text_input = layers.Input(shape=(), dtype=tf.string)\n",
    "preprocessor = hub.KerasLayer(\"https://tfhub.dev/tensorflow/bert_en_uncased_preprocess/3\")\n",
    "encoder = hub.KerasLayer(\"https://tfhub.dev/tensorflow/small_bert/bert_en_uncased_L-4_H-128_A-2/2\", trainable=True)\n",
    "encoder_inputs = preprocessor(text_input)\n",
    "outputs = encoder(encoder_inputs)\n",
    "pooled_output = outputs[\"pooled_output\"]      # [batch_size, 768].\n",
    "output = layers.Dense(len(classnames), activation='softmax')(pooled_output)\n",
    "model = Model(inputs=text_input, outputs=output)\n",
    "# model.summary()\n",
    "embedding_model = Model(inputs=text_input, outputs=pooled_output)\n",
    "# embedding_model.summary()"
   ]
  },
  {
   "attachments": {},
   "cell_type": "markdown",
   "metadata": {},
   "source": [
    "### run model"
   ]
  },
  {
   "cell_type": "code",
   "execution_count": 6,
   "metadata": {},
   "outputs": [],
   "source": [
    "def infer():\n",
    "    idx = randrange(test_inputs.shape[0])\n",
    "    x, y = test_inputs[idx], test_labels[idx]\n",
    "\n",
    "    # get predictions\n",
    "    y_hat = model(x)\n",
    "    y_hat = np.argmax(y_hat, axis=1)\n",
    "\n",
    "    # print input, predictions, labels\n",
    "    for i in range(test_batch_size):\n",
    "        print(f\"Input: {x[i]}\")\n",
    "        print(f\"Predicted label: {classnames[y_hat[i]]}\")\n",
    "        print(f\"Actual label: {classnames[y[i]]}\\n\")"
   ]
  },
  {
   "attachments": {},
   "cell_type": "markdown",
   "metadata": {},
   "source": [
    "### training loop"
   ]
  },
  {
   "cell_type": "code",
   "execution_count": null,
   "metadata": {},
   "outputs": [],
   "source": [
    "lr = 5e-5\n",
    "optimizer = optimizers.Adam(learning_rate=lr)\n",
    "@tf.function(input_signature=[\n",
    "    tf.TensorSpec(shape=(None), dtype=tf.string),\n",
    "    tf.TensorSpec(shape=(None), dtype=tf.int32)\n",
    "])\n",
    "def train_step(x, y):\n",
    "    with tf.GradientTape() as tape:\n",
    "        y_hat = model(x)\n",
    "        loss = losses.sparse_categorical_crossentropy(y, y_hat)\n",
    "\n",
    "    gradients = tape.gradient(loss, model.trainable_variables)\n",
    "    optimizer.apply_gradients(zip(gradients, model.trainable_variables))\n",
    "    return loss"
   ]
  },
  {
   "attachments": {},
   "cell_type": "markdown",
   "metadata": {},
   "source": [
    "### train model"
   ]
  },
  {
   "cell_type": "code",
   "execution_count": null,
   "metadata": {},
   "outputs": [],
   "source": [
    "def train(num_epochs=50):\n",
    "    loss_history = []\n",
    "    prev_time = time.time()\n",
    "    time_elapsed = 0\n",
    "\n",
    "    # load saved models\n",
    "    if os.path.isfile(\"models/topic-model.h5\"):\n",
    "        model.load_weights(\"models/topic-model.h5\")\n",
    "\n",
    "    print(\"Training...\")\n",
    "\n",
    "    for epoch in range(num_epochs):\n",
    "        loss_this_epoch = []\n",
    "        for x, y in tqdm(zip(inputs, labels), total=len(inputs)):\n",
    "            loss = train_step(x, y)\n",
    "            loss_this_epoch.append(loss.numpy().mean())\n",
    "\n",
    "            time_elapsed += time.time() - prev_time\n",
    "            prev_time = time.time()\n",
    "\n",
    "        loss_history.append(sum(loss_this_epoch) / len(loss_this_epoch))\n",
    "        print(f\"Epoch {epoch + 1}/{num_epochs}. Loss: {sum(loss_this_epoch) / len(loss_this_epoch)}. Time elapsed: {format_time(time_elapsed)}\\n\")\n",
    "        # save checkpoints\n",
    "        model.save_weights(\"models/topic-model.h5\")\n",
    "        model.save_weights(f\"models/weights{epoch + 1}.h5\")\n",
    "\n",
    "        infer()\n",
    "\n",
    "        # plot a graph that will show how our loss varied with time\n",
    "        plt.plot(loss_history)\n",
    "        plt.title(\"Training Progress\")\n",
    "        plt.xlabel(\"Epochs\")\n",
    "        plt.ylabel(\"Loss\")\n",
    "        plt.savefig(os.path.join(\"./plots\", \"Training Progress\"))\n",
    "        # plt.show()\n",
    "        plt.close()\n",
    "\n",
    "train()"
   ]
  },
  {
   "attachments": {},
   "cell_type": "markdown",
   "metadata": {},
   "source": [
    "### load model weights"
   ]
  },
  {
   "cell_type": "code",
   "execution_count": 7,
   "metadata": {},
   "outputs": [],
   "source": [
    "# load the weights into the model\n",
    "model.load_weights(\"models/weights48.h5\")\n",
    "\n",
    "# transfer the weights from the model to the embedding model layer b\n",
    "for i in range(len(embedding_model.layers)):\n",
    "    embedding_model.layers[i].set_weights(model.layers[i].get_weights())"
   ]
  },
  {
   "attachments": {},
   "cell_type": "markdown",
   "metadata": {},
   "source": [
    "### save model"
   ]
  },
  {
   "cell_type": "code",
   "execution_count": 6,
   "metadata": {},
   "outputs": [
    {
     "name": "stdout",
     "output_type": "stream",
     "text": [
      "WARNING:tensorflow:Compiled the loaded model, but the compiled metrics have yet to be built. `model.compile_metrics` will be empty until you train or evaluate the model.\n"
     ]
    },
    {
     "name": "stderr",
     "output_type": "stream",
     "text": [
      "WARNING:tensorflow:Compiled the loaded model, but the compiled metrics have yet to be built. `model.compile_metrics` will be empty until you train or evaluate the model.\n",
      "WARNING:absl:Found untraced functions such as restored_function_body, restored_function_body, restored_function_body, restored_function_body, restored_function_body while saving (showing 5 of 126). These functions will not be directly callable after loading.\n"
     ]
    },
    {
     "name": "stdout",
     "output_type": "stream",
     "text": [
      "INFO:tensorflow:Assets written to: models/BERT/1/assets\n"
     ]
    },
    {
     "name": "stderr",
     "output_type": "stream",
     "text": [
      "INFO:tensorflow:Assets written to: models/BERT/1/assets\n"
     ]
    }
   ],
   "source": [
    "# save embedding model to pb file\n",
    "embedding_model.save(\"models/BERT/1/\")"
   ]
  },
  {
   "attachments": {},
   "cell_type": "markdown",
   "metadata": {},
   "source": [
    "### get embeddings"
   ]
  },
  {
   "cell_type": "code",
   "execution_count": 8,
   "metadata": {},
   "outputs": [],
   "source": [
    "def get_embeddings(statement):\n",
    "    embedding = embedding_model(tf.constant([statement])).numpy().squeeze()\n",
    "    return embedding"
   ]
  },
  {
   "attachments": {},
   "cell_type": "markdown",
   "metadata": {},
   "source": [
    "### get clusters of training data"
   ]
  },
  {
   "cell_type": "code",
   "execution_count": 9,
   "metadata": {},
   "outputs": [
    {
     "name": "stderr",
     "output_type": "stream",
     "text": [
      "100%|██████████| 21/21 [00:04<00:00,  4.98it/s]\n",
      "C:\\Users\\Moses\\AppData\\Roaming\\Python\\Python39\\site-packages\\sklearn\\manifold\\_t_sne.py:795: FutureWarning: The default initialization in TSNE will change from 'random' to 'pca' in 1.2.\n",
      "  warnings.warn(\n",
      "C:\\Users\\Moses\\AppData\\Roaming\\Python\\Python39\\site-packages\\sklearn\\manifold\\_t_sne.py:805: FutureWarning: The default learning rate in TSNE will change from 200.0 to 'auto' in 1.2.\n",
      "  warnings.warn(\n"
     ]
    },
    {
     "data": {
      "image/png": "[encoded data removed]",
      "text/plain": [
       "<Figure size 720x720 with 1 Axes>"
      ]
     },
     "metadata": {
      "needs_background": "light"
     },
     "output_type": "display_data"
    }
   ],
   "source": [
    "# for the training set, create a dictionary with the text as the key and the embeddings as the value\n",
    "train_embeddings = {}\n",
    "for x, y in tqdm(zip(inputs, labels), total=len(inputs)):\n",
    "    for i in range(batch_size):\n",
    "        train_embeddings[x[i]] = get_embeddings(x[i])\n",
    "\n",
    "purpose_statements = list(train_embeddings.keys())\n",
    "embeddings = np.vstack(list(train_embeddings.values()))\n",
    "\n",
    "# Compute the covariance matrix of the data\n",
    "cov_matrix = np.cov(embeddings.T)\n",
    "\n",
    "# Perform eigenvalue decomposition on the covariance matrix\n",
    "eigenvalues, eigenvectors = np.linalg.eig(cov_matrix)\n",
    "\n",
    "# Sort the eigenvalues in decreasing order\n",
    "idx = eigenvalues.argsort()[::-1]\n",
    "eigenvalues = eigenvalues[idx]\n",
    "\n",
    "# Look for the elbow in the plot to estimate the number of clusters\n",
    "# In this example, we'll use the number of clusters corresponding to the first significant drop in eigenvalue\n",
    "n_clusters = 0\n",
    "for i in range(len(eigenvalues)):\n",
    "    if eigenvalues[i] < eigenvalues[0] * 0.1:\n",
    "        n_clusters = i\n",
    "        break\n",
    "\n",
    "if n_clusters == 0:\n",
    "    n_clusters = len(eigenvalues)\n",
    "\n",
    "agg_cluster = AgglomerativeClustering(n_clusters=n_clusters, affinity='cosine', linkage='average', compute_distances=True)\n",
    "agg_cluster.fit(embeddings)\n",
    "cluster_labels = agg_cluster.labels_\n",
    "\n",
    "# Calculate cluster centroids as mean of embeddings in each cluster\n",
    "centroids = np.zeros((n_clusters, embeddings.shape[1]))\n",
    "\n",
    "for i in range(n_clusters):\n",
    "    cluster_embeddings = np.vstack([train_embeddings[ps] for j, ps in enumerate(purpose_statements) if cluster_labels[j] == i])\n",
    "    centroids[i] = np.mean(cluster_embeddings, axis=0)\n",
    "\n",
    "# visualize the clusters\n",
    "tsne = TSNE(n_components=2, perplexity=30, n_iter=1000)\n",
    "embeddings_2d = tsne.fit_transform(embeddings)\n",
    "\n",
    "plt.figure(figsize=(10, 10))\n",
    "plt.scatter(embeddings_2d[:, 0], embeddings_2d[:, 1], c=cluster_labels, cmap='plasma')\n",
    "plt.title(\"Clusters of Purpose Statements\")\n",
    "plt.xlabel(\"x\")\n",
    "plt.ylabel(\"y\")\n",
    "plt.show()\n"
   ]
  },
  {
   "attachments": {},
   "cell_type": "markdown",
   "metadata": {},
   "source": [
    "### save training set embeddings"
   ]
  },
  {
   "cell_type": "code",
   "execution_count": null,
   "metadata": {},
   "outputs": [],
   "source": [
    "# Save embeddings to file\n",
    "grouped_embeddings = {}\n",
    "for i in range(n_clusters):\n",
    "    cluster_i = np.stack([emb for j, emb in enumerate(embeddings) if cluster_labels[j] == i])\n",
    "    label_i = i\n",
    "    if cluster_i.shape[0] > 0:\n",
    "        grouped_embeddings[str(label_i)] = cluster_i\n",
    "\n",
    "print(grouped_embeddings)\n",
    "np.savez(\"./server/assets/train_embeddings.npz\", **grouped_embeddings)\n",
    "grouped_embeddings = dict(np.load(\"./server/assets/train_embeddings.npz\"))"
   ]
  },
  {
   "attachments": {},
   "cell_type": "markdown",
   "metadata": {},
   "source": [
    "### save the clustering model to a file"
   ]
  },
  {
   "cell_type": "code",
   "execution_count": 36,
   "metadata": {},
   "outputs": [],
   "source": [
    "# Save the clustering model to a file\n",
    "with open('./server/assets/cluster_model.pkl', 'wb') as f:\n",
    "    pickle.dump(agg_cluster, f)"
   ]
  },
  {
   "attachments": {},
   "cell_type": "markdown",
   "metadata": {},
   "source": [
    "### show the contents of clusters"
   ]
  },
  {
   "cell_type": "code",
   "execution_count": 10,
   "metadata": {},
   "outputs": [
    {
     "name": "stdout",
     "output_type": "stream",
     "text": [
      "Cluster 0: ['To promote access to quality education for all individuals, regardless of socioeconomic background, race, or gender, in order to foster a more equitable and just society.', 'To promote teacher development and training programs that improve instructional practices and promote effective teaching strategies, in order to enhance student learning outcomes and promote a culture of lifelong learning.', 'To advocate for policies and regulations that promote equitable and adequate funding for public schools, in order to reduce educational disparities and promote equal access to quality education.', 'To promote education for sustainable development, which integrates principles of environmental sustainability and social responsibility into educational curricula and programs, in order to develop environmentally and socially conscious citizens.', 'To promote intercultural understanding and global citizenship by providing opportunities for students to learn about and engage with diverse cultures and perspectives, in order to promote cross-cultural understanding and collaboration.', 'To promote environmental conservation and sustainability through community-based initiatives that engage and educate individuals on the importance of protecting natural resources and reducing their carbon footprint.', 'To advocate for policy changes and regulations that promote environmentally responsible practices and reduce the negative impacts of human activities on the environment and biodiversity.', 'To support and collaborate with organizations and individuals who are dedicated to protecting and restoring natural ecosystems and habitats, in order to ensure a healthy and thriving planet for future generations.', 'To promote sustainable waste management practices and reduce waste generation through the implementation of circular economy principles, in order to minimize environmental pollution and promote a more efficient use of natural resources.', 'To raise awareness about the impacts of climate change and encourage individuals, businesses, and governments to take action towards reducing greenhouse gas emissions and mitigating the effects of global warming on the environment and human health.', 'To increase financial literacy and provide access to financial education for individuals and families, in order to improve their financial well-being and create economic opportunities.', 'To promote responsible and ethical investing practices that prioritize long-term social and environmental impacts, in order to create a more sustainable and equitable financial system.', 'To support small and medium-sized enterprises by providing them with access to capital, business advice, and mentorship, in order to promote economic growth and job creation.', 'To advocate for financial regulations that protect consumers and prevent fraudulent or predatory financial practices, in order to create a more stable and trustworthy financial system.', 'To promote philanthropy and charitable giving by individuals and corporations, in order to support social and environmental causes and create positive social impact.']\n",
      "Cluster 1: [\"To promote and advance gender equality and women's empowerment through education, advocacy, and policy reform.\", 'To combat discrimination and promote social inclusion by working to eliminate barriers to equal opportunity, regardless of race, ethnicity, religion, or sexual orientation.', 'To promote economic justice and reduce income inequality by advocating for fair labor practices, affordable housing, and access to basic needs such as healthcare and education.', 'To promote diversity and cultural exchange, and to reduce prejudice and discrimination by fostering understanding and appreciation across different cultures, races, and backgrounds.', 'To support the rights of marginalized groups, such as refugees, immigrants, and indigenous peoples, by advocating for their inclusion and participation in decision-making processes.', 'To promote community safety by supporting community policing efforts and increasing trust and collaboration between law enforcement and community members.', 'To prevent crime and violence by addressing the root causes of crime, such as poverty, lack of opportunity, and social marginalization, through community-based interventions and advocacy.', 'To support the rehabilitation and reintegration of formerly incarcerated individuals into their communities, by providing access to education, job training, and support services.', 'To support victim services and survivor advocacy by providing resources and support for individuals who have experienced violence or trauma, and advocating for policies and practices that prioritize victim safety and well-being.', 'To promote international cooperation and diplomacy to address transnational threats to public safety and security, such as terrorism, organized crime, and trafficking.']\n",
      "Cluster 2: ['To develop state-of-the-art cybersecurity solutions that protect individuals, organizations, and governments from ever-evolving cyber threats, using the latest advances in artificial intelligence and machine learning.', 'To create a blockchain-based platform that enables secure and transparent voting systems, ensuring the integrity and accuracy of election results.', 'To design and implement cutting-edge artificial intelligence algorithms that automate and optimize business processes, improving efficiency and productivity across industries.', 'To build an innovative cloud-based platform that streamlines supply chain management, reducing costs and improving sustainability through data-driven decision-making.', 'To develop an intelligent personal assistant using natural language processing and machine learning, that simplifies everyday tasks and enhances the lives of individuals around the world.', 'To create an open-source blockchain protocol that enables secure and private peer-to-peer transactions, empowering individuals and promoting financial inclusion.', \"To develop advanced data analytics tools that enable businesses to make data-driven decisions and gain a competitive edge in today's rapidly evolving technological landscape.\", \"To build a decentralized cloud infrastructure that ensures the privacy and security of users' data, while providing scalable and cost-effective solutions for businesses and individuals.\", 'To design and implement a cutting-edge artificial intelligence system that automates medical diagnoses, improving accuracy and reducing the burden on healthcare professionals.', 'To create an innovative blockchain-based solution that enables secure and efficient cross-border payments, facilitating global trade and economic growth.', 'To promote sustainable transport solutions by advocating for the development of public transportation systems that reduce carbon emissions and increase accessibility.', 'To create a safer transport environment for all road users by advocating for and enforcing road safety laws and regulations.', 'To increase access to transport for underprivileged communities by providing affordable and reliable public transportation options in areas where private transportation is not viable.', 'To promote the use of active transport modes such as cycling and walking by developing infrastructure that supports and encourages these modes of transport.', 'To reduce the environmental impact of the transport sector by encouraging the use of low-emission transportation modes and supporting the development of alternative fuels and energy sources.']\n",
      "Cluster 3: ['To provide affordable and accessible healthcare services to underserved communities, regardless of their ability to pay, in order to improve health outcomes and promote health equity.', 'To advocate for policy changes that prioritize public health and address the social determinants of health, in order to create a more just and equitable healthcare system.', 'To train and support healthcare professionals in providing culturally competent care to diverse patient populations, in order to reduce healthcare disparities and improve patient outcomes.', 'To conduct research on the effectiveness of non-pharmacological interventions such as mindfulness meditation and exercise in treating chronic conditions, in order to provide patients with holistic and evidence-based care.', 'To promote public health education and awareness campaigns to increase knowledge and understanding of health issues, in order to prevent diseases and promote healthy lifestyles.', 'To promote responsible and sustainable industrial development that minimizes negative environmental impacts and maximizes social benefits, such as job creation and economic growth, in order to foster sustainable development.', 'To advocate for policies and regulations that promote worker safety, labor rights, and fair working conditions in industrial settings, in order to ensure that workers are treated with dignity and respect.', 'To promote industrial research and development that improves industrial processes and reduces waste and pollution, in order to promote sustainable industrialization and reduce negative environmental impacts.', 'To promote industrial cooperation and collaboration between different industries and sectors, in order to promote innovation and create new business opportunities.', 'To promote the use of sustainable and locally sourced materials in industrial processes, in order to reduce reliance on non-renewable resources and promote sustainable consumption and production patterns.']\n",
      "Cluster 4: ['To promote transparency and accountability in government through the implementation of effective policies and procedures, ensuring that public resources are used responsibly and ethically.', 'To support the development of effective and inclusive governance systems in developing countries, promoting democratic values and institutions that serve the needs of all citizens.', 'To promote the rule of law and access to justice through legal reform and the provision of legal services, ensuring that individuals and communities have the resources they need to seek justice and protect their rights.', 'To promote ethical leadership and public service values, fostering a culture of integrity and accountability in government at all levels.', 'To strengthen civil society and promote civic engagement in governance, empowering citizens to participate in decision-making and hold elected officials accountable.']\n",
      "Cluster 5: ['To promote and protect democracy by educating citizens on their rights and responsibilities, and advocating for transparent and accountable governance at all levels.', 'To increase civic engagement and participation through community organizing, voter education, and mobilization efforts.', 'To promote equality and social justice by fighting against voter suppression and ensuring that all eligible citizens have access to the ballot.', 'To promote international cooperation and diplomacy to strengthen democratic institutions and support peaceful democratic transitions in emerging democracies.', 'To support the development of independent media and free press, as an essential component of a healthy democracy, by advocating for press freedom and media literacy.', 'To promote energy conservation and reduce waste by implementing energy-efficient practices in buildings, transportation, and industry, in order to reduce carbon emissions and preserve natural resources for future generations.', 'To develop sustainable agricultural practices that utilize renewable energy sources and reduce reliance on fossil fuels, in order to promote sustainable food production and contribute to the achievement of the sustainable development goals.', 'To advocate for policies and regulations that encourage the use of clean and renewable energy sources, such as solar, wind, and hydroelectric power, in order to reduce reliance on fossil fuels and promote a transition to a sustainable energy future.', 'To promote education and awareness about energy conservation and renewable energy sources, in order to empower individuals and communities to take action and contribute to a more sustainable future.', 'To collaborate with local communities to develop decentralized energy systems, such as microgrids and community solar projects, which would increase access to clean and affordable energy and promote sustainable development.']\n",
      "Cluster 6: ['To promote sustainable agriculture practices and protect the environment by supporting small-scale farmers and encouraging the adoption of agroecological approaches.', 'To provide nutritious food to underprivileged communities by establishing community gardens and supporting local farmers.', 'To reduce food waste and increase food security by developing efficient and effective supply chain networks that connect small-scale farmers to local markets.', 'To empower women in agriculture by providing them with the necessary skills, resources, and support to thrive in their fields.', 'To promote sustainable land use and protect biodiversity by working with farmers and local communities to implement sustainable agriculture practices that conserve natural resources and protect ecosystems.']\n",
      "Cluster 7: ['To provide immediate relief to victims of natural disasters and humanitarian crises, by deploying trained volunteers and providing access to basic necessities such as food, water, and shelter.', 'To advocate for the rights and well-being of refugees and displaced persons around the world, by providing legal assistance, education, and other essential services.', 'To support the development of sustainable communities in areas affected by conflict or natural disasters, by working with local leaders and organizations to build capacity and promote long-term stability.', 'To empower individuals and communities to prepare for emergencies and disasters through education and training, including first aid, emergency response, and disaster management.', 'To promote sustainable development and environmental conservation in areas affected by disasters and humanitarian crises, by working with local communities and organizations to rebuild and restore natural resources, and to create sustainable livelihoods.']\n",
      "Cluster 8: ['To preserve and promote cultural heritage by supporting traditional arts, crafts, and cultural practices, and providing opportunities for intergenerational learning and transmission of cultural knowledge.', 'To increase cultural understanding and promote intercultural dialogue by facilitating cultural exchanges, events, and festivals that bring together diverse communities and promote cultural appreciation.', 'To support the development of diverse and inclusive cultural institutions that reflect and serve the needs of their communities, by promoting equity and access to cultural resources.', 'To foster creativity and innovation in the arts by supporting emerging artists and providing resources for arts education and professional development.', 'To promote cultural tourism and economic development by showcasing the unique cultural assets of communities and regions, and creating opportunities for cultural entrepreneurship and innovation.']\n",
      "Cluster 9: ['To promote mental health awareness and destigmatize mental illness by creating safe spaces for individuals to share their experiences and providing access to community resources.', 'To advocate for and increase access to affordable mental health services for underserved populations, such as low-income communities and individuals with disabilities.', 'To promote holistic wellness by educating individuals on the importance of mental health, self-care practices, and healthy coping mechanisms for stress and anxiety.', 'To support the mental health and well-being of individuals in high-stress professions, such as healthcare workers, first responders, and educators.', 'To conduct research and advance the understanding of mental health and illness, with the ultimate goal of improving treatment and prevention strategies.']\n",
      "Cluster 10: ['To promote fair and equitable trade policies that support the growth and development of small businesses and local economies, while ensuring that trade benefits are shared by all.', 'To foster global partnerships and collaborations that enhance trade relationships and promote sustainable development across borders.', 'To empower individuals and communities to participate in trade through education and training programs, providing access to resources and opportunities that promote economic growth and development.', 'To advocate for policies that promote transparency and accountability in global trade, ensuring that trade benefits are distributed fairly and ethically.', 'To facilitate the exchange of goods and services between nations and cultures, promoting mutual understanding and cooperation through trade relationships.']\n",
      "Cluster 11: ['To create affordable and sustainable housing options for all individuals, regardless of income or background, in order to promote equitable and inclusive communities.', 'To promote responsible land use practices and sustainable development in order to minimize the negative impacts of urbanization on the environment and preserve natural resources for future generations.', \"To advocate for policies and regulations that protect tenants' rights and ensure safe and healthy living conditions in rental properties, in order to promote social justice and equitable access to housing.\", 'To support the development of vibrant and sustainable communities by promoting mixed-use developments that combine housing, retail, and public spaces in order to create a sense of place and community.', 'To collaborate with local communities to revitalize distressed neighborhoods and promote economic growth and development, by investing in affordable housing, public spaces, and community resources.']\n",
      "Cluster 12: ['To promote the conservation and protection of endangered wildlife species and their natural habitats, in order to preserve biodiversity and promote ecological balance.', 'To support scientific research and advocacy efforts that raise awareness about the importance of wildlife conservation and the impacts of human activity on the environment.', 'To advocate for policies and regulations that protect wildlife and promote sustainable use of natural resources, such as sustainable forestry and fisheries practices.', 'To educate the public about the importance of wildlife conservation and inspire individuals to take action to protect and preserve wildlife and their habitats.', 'To collaborate with local communities and stakeholders to promote sustainable tourism practices that support wildlife conservation and promote economic development in the region.']\n",
      "Cluster 13: ['To conduct groundbreaking research in the field of biotechnology, with the ultimate goal of developing innovative treatments and therapies for currently untreatable diseases.', 'To advance scientific understanding of climate change and its impacts on the planet, and to develop evidence-based solutions to mitigate its effects and ensure a sustainable future for all.', 'To support and promote scientific education and outreach programs that inspire the next generation of scientists and researchers, and to foster a culture of innovation and discovery.', 'To develop new materials and technologies for use in clean energy systems, with the ultimate goal of achieving a sustainable and renewable energy future.', 'To advance the fields of neuroscience and psychology through cutting-edge research, with the goal of developing a deeper understanding of the human brain and its functions, and improving mental health outcomes for individuals and communities.']\n"
     ]
    }
   ],
   "source": [
    "# Print purpose statements in each cluster\n",
    "for i in range(n_clusters):\n",
    "    cluster_i = [ps for j, ps in enumerate(purpose_statements) if cluster_labels[j] == i]\n",
    "    print(f\"Cluster {i}: {cluster_i}\")"
   ]
  },
  {
   "cell_type": "markdown",
   "metadata": {},
   "source": [
    "### get the cluster of a new statement"
   ]
  },
  {
   "cell_type": "code",
   "execution_count": 35,
   "metadata": {},
   "outputs": [
    {
     "name": "stdout",
     "output_type": "stream",
     "text": [
      "New label: 4\n"
     ]
    }
   ],
   "source": [
    "new_statement = \"To promote responsible and ethical use of technology by developing digital solutions that are transparent, secure, and protect user privacy, and by advocating for policies that ensure technology benefits society as a whole.\"\n",
    "new_embedding = get_embeddings(new_statement)\n",
    "\n",
    "# Calculate distances between new user embedding and cluster centroids\n",
    "distances = pairwise_distances(new_embedding.reshape(1, -1), centroids, metric='cosine')\n",
    "\n",
    "# Calculate distribution of distances\n",
    "distances_hist, distances_bins = np.histogram(distances, bins=100)\n",
    "\n",
    "# Find elbow point of distribution\n",
    "distances_cumsum = np.cumsum(distances_hist)\n",
    "total_distance = distances_cumsum[-1]\n",
    "distance_ratios = distances_cumsum / total_distance\n",
    "elbow_idx = np.argmax(distance_ratios > 0.9)\n",
    "\n",
    "# Choose threshold based on elbow point\n",
    "threshold = distances_bins[elbow_idx]\n",
    "\n",
    "# Find the index of the closest cluster\n",
    "closest_cluster_idx = np.argmin(distances)\n",
    "\n",
    "# Check if distance is below threshold, otherwise create new cluster\n",
    "if distances[0, closest_cluster_idx] < threshold:\n",
    "    # Assign new user to closest cluster\n",
    "    new_label = closest_cluster_idx\n",
    "else:\n",
    "    # Create new cluster for new user\n",
    "    new_label = len(centroids)\n",
    "    centroids = np.vstack([centroids, new_embedding])\n",
    "    cluster_labels = np.append(cluster_labels, new_label)\n",
    "\n",
    "print(f\"New label: {new_label}\")"
   ]
  }
 ],
 "metadata": {
  "kernelspec": {
   "display_name": "Python 3",
   "language": "python",
   "name": "python3"
  },
  "language_info": {
   "codemirror_mode": {
    "name": "ipython",
    "version": 3
   },
   "file_extension": ".py",
   "mimetype": "text/x-python",
   "name": "python",
   "nbconvert_exporter": "python",
   "pygments_lexer": "ipython3",
   "version": "3.9.6"
  },
  "orig_nbformat": 4
 },
 "nbformat": 4,
 "nbformat_minor": 2
}
